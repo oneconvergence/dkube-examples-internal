{
 "cells": [
  {
   "cell_type": "markdown",
   "metadata": {},
   "source": [
    "### Importing Libraries"
   ]
  },
  {
   "cell_type": "code",
   "execution_count": 19,
   "metadata": {},
   "outputs": [],
   "source": [
    "from dkube.sdk import *\n",
    "import os"
   ]
  },
  {
   "cell_type": "code",
   "execution_count": 20,
   "metadata": {},
   "outputs": [],
   "source": [
    "import kfp\n",
    "import kfp.dsl as dsl\n",
    "import kfp.compiler as compiler\n",
    "from kubernetes import client as k8s_client\n",
    "from kfp import components\n",
    "import json\n",
    "from random import randint"
   ]
  },
  {
   "cell_type": "markdown",
   "metadata": {},
   "source": [
    "### Initializing fields"
   ]
  },
  {
   "cell_type": "code",
   "execution_count": 24,
   "metadata": {},
   "outputs": [],
   "source": [
    "user = os.getenv('USERNAME')\n",
    "token = os.getenv('DKUBE_USER_ACCESS_TOKEN')\n",
    "code_name = \"sdk-mnist\"\n",
    "dataset_name = \"sdk-mnist\"\n",
    "model_name = \"sdk-mnist\"\n",
    "framework = \"tensorflow_1.14\"\n",
    "image = \"ocdr/d3-datascience-tf-cpu:v1.14-3\"\n",
    "training_script = \"python model.py\"\n",
    "transformer_script = \"mnist-tf/transformer.py\""
   ]
  },
  {
   "cell_type": "code",
   "execution_count": 25,
   "metadata": {},
   "outputs": [],
   "source": [
    "# Dkube Client handle\n",
    "api = DkubeApi(token=token)"
   ]
  },
  {
   "cell_type": "markdown",
   "metadata": {},
   "source": [
    "### Creating Repos using DKube SDK"
   ]
  },
  {
   "cell_type": "code",
   "execution_count": null,
   "metadata": {},
   "outputs": [],
   "source": [
    "print(f\"Adding code {code_name}\")\n",
    "code = DkubeCode(user, name=code_name)\n",
    "code.update_git_details(\"https://github.com/oneconvergence/dkube-examples-internal/tree/sdk-eg-mnist/sdk-examples/mnist-tf)\n",
    "try:\n",
    "    api.create_code(code)\n",
    "    print(f\"Code {code_name} added\")\n",
    "except BaseException as e:\n",
    "    print(e)\n",
    "\n",
    "print(f\"Adding dataset {dataset_name}\")\n",
    "dataset = DkubeDataset(user, name=dataset_name)\n",
    "try:\n",
    "    api.create_dataset(dataset)\n",
    "    print(f\"Dataset {dataset_name} added\")\n",
    "except BaseException as e:\n",
    "    print(e)\n",
    "\n",
    "print(f\"Adding model {model_name}\")\n",
    "model = DkubeModel(user, name=model_name)\n",
    "model.update_model_source(source='dvs')\n",
    "try:\n",
    "    api.create_model(model)\n",
    "    print(f\"Model {model_name} added\")\n",
    "except BaseException as e:\n",
    "    print(e)"
   ]
  },
  {
   "cell_type": "markdown",
   "metadata": {},
   "source": [
    "### Load Components"
   ]
  },
  {
   "cell_type": "code",
   "execution_count": 29,
   "metadata": {},
   "outputs": [],
   "source": [
    "\n",
    "dkube_training_op = components.load_component_from_file(\"/mnt/dkube/pipeline/components/training/component.yaml\")\n",
    "dkube_serving_op  = components.load_component_from_file(\"/mnt/dkube/pipeline/components/serving/component.yaml\")\n"
   ]
  },
  {
   "cell_type": "code",
   "execution_count": 30,
   "metadata": {},
   "outputs": [],
   "source": [
    "\n",
    "@dsl.pipeline(\n",
    "  name='MNIST',\n",
    "  description='A pipeline to train and serve the MNIST example.'\n",
    ")\n",
    "def mnist_pipeline(train_steps='200',\n",
    "                   learning_rate='0.01',\n",
    "                   batch_size='100',\n",
    "                   token=token,code_name=code_name,dataset_name=dataset_name,model_name=model_name):\n",
    "    \n",
    "                   training = dkube_training_op(token, json.dumps({\"image\": image}),\n",
    "                            framework=\"tensorflow\", version=\"1.14\",\n",
    "                            program=code_name, run_script=training_script,\n",
    "                            input_dataset_mounts='[\"tmp/data/\"]',outputs='[\"sdk-mnist\"]',\n",
    "                            output_mounts='[\"/model\"]')\n",
    "                   \n",
    "                   serving  = dkube_serving_op(token, training.outputs['artifact'],\n",
    "                            device=\"cpu\", serving_image=json.dumps({\"image\": \"ocdr/tensorflowserver:1.14\"}),\n",
    "                            transformer_image=json.dumps({\"image\": image}),\n",
    "                            transformer_project=code_name,\n",
    "                            transformer_code=transformer_script).after(training).set_display_name(\"MNIST Serving\")\n",
    "         \n",
    "                   "
   ]
  },
  {
   "cell_type": "code",
   "execution_count": 33,
   "metadata": {},
   "outputs": [
    {
     "data": {
      "text/html": [
       "Experiment link <a href=\"/pipeline/#/experiments/details/cf9dfbe3-9975-4368-a684-2c8d9d46f552\" target=\"_blank\" >here</a>"
      ],
      "text/plain": [
       "<IPython.core.display.HTML object>"
      ]
     },
     "metadata": {},
     "output_type": "display_data"
    }
   ],
   "source": [
    "experiment_name = 'MNIST pl'\n",
    "client = kfp.Client(existing_token=token)\n",
    "mnist_experiment = client.create_experiment(name=experiment_name)"
   ]
  },
  {
   "cell_type": "code",
   "execution_count": 34,
   "metadata": {},
   "outputs": [
    {
     "data": {
      "text/html": [
       "Pipeline link <a href=/pipeline/#/pipelines/details/86be2623-a638-42d7-aad4-cce517635df0>here</a>"
      ],
      "text/plain": [
       "<IPython.core.display.HTML object>"
      ]
     },
     "metadata": {},
     "output_type": "display_data"
    }
   ],
   "source": [
    "arguments = {\"token\":token}\n",
    "compiler.Compiler().compile(mnist_pipeline, \"mnist-pipeline.zip\")\n",
    "try:\n",
    "    pipeline = client.upload_pipeline(\"mnist-pipeline.zip\", pipeline_name = \"mnist-pipeline\")\n",
    "except BaseException as e:\n",
    "    print(e)\n",
    "runid = 1\n"
   ]
  },
  {
   "cell_type": "code",
   "execution_count": 35,
   "metadata": {},
   "outputs": [
    {
     "data": {
      "text/html": [
       "Run link <a href=\"/pipeline/#/runs/details/b758d61a-681a-4355-9636-d24778d2179d\" target=\"_blank\" >here</a>"
      ],
      "text/plain": [
       "<IPython.core.display.HTML object>"
      ]
     },
     "metadata": {},
     "output_type": "display_data"
    }
   ],
   "source": [
    "run = client.run_pipeline(mnist_experiment.id, job_name=\"[MNIST] Run\" + str(runid), pipeline_id=pipeline.id, params=arguments)\n",
    "runid += 1"
   ]
  },
  {
   "cell_type": "code",
   "execution_count": null,
   "metadata": {},
   "outputs": [],
   "source": []
  }
 ],
 "metadata": {
  "kernelspec": {
   "display_name": "Python 3",
   "language": "python",
   "name": "python3"
  },
  "language_info": {
   "codemirror_mode": {
    "name": "ipython",
    "version": 3
   },
   "file_extension": ".py",
   "mimetype": "text/x-python",
   "name": "python",
   "nbconvert_exporter": "python",
   "pygments_lexer": "ipython3",
   "version": "3.6.8"
  }
 },
 "nbformat": 4,
 "nbformat_minor": 4
}
