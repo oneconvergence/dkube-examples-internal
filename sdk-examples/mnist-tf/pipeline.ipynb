{
 "cells": [
  {
   "cell_type": "markdown",
   "metadata": {},
   "source": [
    "### Importing Libraries"
   ]
  },
  {
   "cell_type": "code",
   "execution_count": 13,
   "metadata": {},
   "outputs": [],
   "source": [
    "from dkube.sdk import *\n",
    "import os"
   ]
  },
  {
   "cell_type": "code",
   "execution_count": 14,
   "metadata": {},
   "outputs": [],
   "source": [
    "import kfp\n",
    "import kfp.dsl as dsl\n",
    "import kfp.compiler as compiler\n",
    "from kubernetes import client as k8s_client\n",
    "from kfp import components\n",
    "import json\n",
    "from random import randint"
   ]
  },
  {
   "cell_type": "markdown",
   "metadata": {},
   "source": [
    "### Initializing fields"
   ]
  },
  {
   "cell_type": "code",
   "execution_count": 15,
   "metadata": {},
   "outputs": [],
   "source": [
    "user = os.getenv('USERNAME')\n",
    "token = os.getenv('DKUBE_USER_ACCESS_TOKEN')\n",
    "code_name = \"sdk-mnist\"\n",
    "dataset_name = \"sdk-mnist\"\n",
    "model_name = \"sdk-mnist\"\n",
    "framework = \"tensorflow_1.14\"\n",
    "image = \"ocdr/d3-datascience-tf-cpu:v1.14-3\"\n",
    "training_script = \"python model.py\"\n",
    "transformer_script = \"sdk-examples/mnist-tf/transformer.py\""
   ]
  },
  {
   "cell_type": "code",
   "execution_count": 16,
   "metadata": {},
   "outputs": [],
   "source": [
    "# Dkube Client handle\n",
    "api = DkubeApi(token=token)"
   ]
  },
  {
   "cell_type": "markdown",
   "metadata": {},
   "source": [
    "### Creating Repos using DKube SDK"
   ]
  },
  {
   "cell_type": "code",
   "execution_count": 17,
   "metadata": {},
   "outputs": [
    {
     "name": "stdout",
     "output_type": "stream",
     "text": [
      "Adding code sdk-mnist\n",
      "{'code': 200, 'message': 'Added code sdk-mnist successfully', 'uuid': None}\n",
      "code sdk-mnist - waiting for completion, current state DOWNLOADING\n",
      "code sdk-mnist - waiting for completion, current state DOWNLOADING\n",
      "code sdk-mnist - waiting for completion, current state DOWNLOADING\n",
      "code sdk-mnist - waiting for completion, current state DOWNLOADING\n",
      "code sdk-mnist - waiting for completion, current state DOWNLOADING\n",
      "code sdk-mnist - waiting for completion, current state DOWNLOADING\n",
      "code sdk-mnist - waiting for completion, current state DOWNLOADING\n",
      "code sdk-mnist - waiting for completion, current state DOWNLOADING\n",
      "code sdk-mnist - waiting for completion, current state DOWNLOADING\n",
      "code sdk-mnist - waiting for completion, current state DOWNLOADING\n",
      "code sdk-mnist - waiting for completion, current state DOWNLOADING\n",
      "code sdk-mnist - waiting for completion, current state DOWNLOADING\n",
      "code sdk-mnist - waiting for completion, current state DOWNLOADING\n",
      "code sdk-mnist - waiting for completion, current state DOWNLOADING\n",
      "code sdk-mnist - waiting for completion, current state DOWNLOADING\n",
      "code sdk-mnist - completed with state READY and reason Unable to add repo to ci/cd\n",
      "\n",
      "Code sdk-mnist added\n",
      "Adding dataset sdk-mnist\n",
      "{'code': 200, 'message': 'Added dataset sdk-mnist successfully', 'uuid': None}\n",
      "dataset sdk-mnist - waiting for completion, current state CREATING\n",
      "dataset sdk-mnist - completed with state READY and reason None\n",
      "Dataset sdk-mnist added\n",
      "Adding model sdk-mnist\n",
      "{'code': 200, 'message': 'Added model sdk-mnist successfully', 'uuid': None}\n",
      "model sdk-mnist - waiting for completion, current state CREATING\n",
      "model sdk-mnist - waiting for completion, current state CREATING\n",
      "model sdk-mnist - completed with state READY and reason None\n",
      "Model sdk-mnist added\n"
     ]
    }
   ],
   "source": [
    "print(f\"Adding code {code_name}\")\n",
    "code = DkubeCode(user, name=code_name)\n",
    "code.update_git_details(\"https://github.com/oneconvergence/dkube-examples-internal/tree/sdk-eg-mnist/sdk-examples/mnist-tf\")\n",
    "try:\n",
    "    api.create_code(code)\n",
    "    print(f\"Code {code_name} added\")\n",
    "except BaseException as e:\n",
    "    print(e)\n",
    "\n",
    "print(f\"Adding dataset {dataset_name}\")\n",
    "dataset = DkubeDataset(user, name=dataset_name)\n",
    "try:\n",
    "    api.create_dataset(dataset)\n",
    "    print(f\"Dataset {dataset_name} added\")\n",
    "except BaseException as e:\n",
    "    print(e)\n",
    "\n",
    "print(f\"Adding model {model_name}\")\n",
    "model = DkubeModel(user, name=model_name)\n",
    "model.update_model_source(source='dvs')\n",
    "try:\n",
    "    api.create_model(model)\n",
    "    print(f\"Model {model_name} added\")\n",
    "except BaseException as e:\n",
    "    print(e)"
   ]
  },
  {
   "cell_type": "markdown",
   "metadata": {},
   "source": [
    "### Load Components"
   ]
  },
  {
   "cell_type": "code",
   "execution_count": 18,
   "metadata": {},
   "outputs": [],
   "source": [
    "\n",
    "dkube_training_op = components.load_component_from_file(\"/mnt/dkube/pipeline/components/training/component.yaml\")\n",
    "dkube_serving_op  = components.load_component_from_file(\"/mnt/dkube/pipeline/components/serving/component.yaml\")\n"
   ]
  },
  {
   "cell_type": "markdown",
   "metadata": {},
   "source": [
    "### Pipeline Definition"
   ]
  },
  {
   "cell_type": "code",
   "execution_count": 19,
   "metadata": {},
   "outputs": [],
   "source": [
    "\n",
    "@dsl.pipeline(\n",
    "  name='MNIST',\n",
    "  description='A pipeline to train and serve the MNIST example.'\n",
    ")\n",
    "def mnist_pipeline(train_steps='200',\n",
    "                   learning_rate='0.01',\n",
    "                   batch_size='100',\n",
    "                   token=token,code_name=code_name,dataset_name=dataset_name,model_name=model_name):\n",
    "    \n",
    "                   training = dkube_training_op(token, json.dumps({\"image\": image}),\n",
    "                            framework=\"tensorflow\", version=\"1.14\",\n",
    "                            program=code_name, run_script=training_script,\n",
    "                            input_dataset_mounts='[\"tmp/data/\"]',outputs='[\"sdk-mnist\"]',\n",
    "                            output_mounts='[\"/model\"]')\n",
    "                   \n",
    "                   serving  = dkube_serving_op(token, training.outputs['artifact'],\n",
    "                            device=\"cpu\", serving_image=json.dumps({\"image\": \"ocdr/tensorflowserver:1.14\"}),\n",
    "                            transformer_image=json.dumps({\"image\": image}),\n",
    "                            transformer_project=code_name,\n",
    "                            transformer_code=transformer_script).after(training).set_display_name(\"MNIST Serving\")\n",
    "         \n",
    "                   "
   ]
  },
  {
   "cell_type": "markdown",
   "metadata": {},
   "source": [
    "### Creating Experiment"
   ]
  },
  {
   "cell_type": "code",
   "execution_count": 20,
   "metadata": {},
   "outputs": [
    {
     "data": {
      "text/html": [
       "Experiment link <a href=\"/pipeline/#/experiments/details/cf9dfbe3-9975-4368-a684-2c8d9d46f552\" target=\"_blank\" >here</a>"
      ],
      "text/plain": [
       "<IPython.core.display.HTML object>"
      ]
     },
     "metadata": {},
     "output_type": "display_data"
    }
   ],
   "source": [
    "experiment_name = 'MNIST pl'\n",
    "client = kfp.Client(existing_token=token)\n",
    "mnist_experiment = client.create_experiment(name=experiment_name)"
   ]
  },
  {
   "cell_type": "markdown",
   "metadata": {},
   "source": [
    "### Compile and Upload the Pipeline"
   ]
  },
  {
   "cell_type": "code",
   "execution_count": 23,
   "metadata": {},
   "outputs": [
    {
     "data": {
      "text/html": [
       "Pipeline link <a href=/pipeline/#/pipelines/details/dd184ae7-c358-4e13-a6d4-ebac752e145d>here</a>"
      ],
      "text/plain": [
       "<IPython.core.display.HTML object>"
      ]
     },
     "metadata": {},
     "output_type": "display_data"
    }
   ],
   "source": [
    "arguments = {\"token\":token}\n",
    "compiler.Compiler().compile(mnist_pipeline, \"mnist-pipeline.zip\")\n",
    "try:\n",
    "    pipeline = client.upload_pipeline(\"mnist-pipeline.zip\", pipeline_name = \"mnist-pipeline\")\n",
    "except BaseException as e:\n",
    "    print(e)\n",
    "runid = 1\n"
   ]
  },
  {
   "cell_type": "markdown",
   "metadata": {},
   "source": [
    "### Create Run from pipeline"
   ]
  },
  {
   "cell_type": "code",
   "execution_count": 24,
   "metadata": {},
   "outputs": [
    {
     "data": {
      "text/html": [
       "Run link <a href=\"/pipeline/#/runs/details/3a0b163b-db54-4b05-b663-d23e9eb38954\" target=\"_blank\" >here</a>"
      ],
      "text/plain": [
       "<IPython.core.display.HTML object>"
      ]
     },
     "metadata": {},
     "output_type": "display_data"
    }
   ],
   "source": [
    "run = client.run_pipeline(mnist_experiment.id, job_name=\"[MNIST] Run\" + str(runid), pipeline_id=pipeline.id, params=arguments)\n",
    "runid += 1"
   ]
  },
  {
   "cell_type": "code",
   "execution_count": null,
   "metadata": {},
   "outputs": [],
   "source": []
  }
 ],
 "metadata": {
  "kernelspec": {
   "display_name": "Python 3",
   "language": "python",
   "name": "python3"
  },
  "language_info": {
   "codemirror_mode": {
    "name": "ipython",
    "version": 3
   },
   "file_extension": ".py",
   "mimetype": "text/x-python",
   "name": "python",
   "nbconvert_exporter": "python",
   "pygments_lexer": "ipython3",
   "version": "3.6.8"
  }
 },
 "nbformat": 4,
 "nbformat_minor": 4
}
