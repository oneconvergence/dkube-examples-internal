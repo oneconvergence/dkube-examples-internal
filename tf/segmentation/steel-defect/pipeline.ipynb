{
 "cells": [
  {
   "cell_type": "code",
   "execution_count": null,
   "metadata": {},
   "outputs": [],
   "source": [
    "from dkube.sdk import *\n",
    "import os"
   ]
  },
  {
   "cell_type": "code",
   "execution_count": null,
   "metadata": {},
   "outputs": [],
   "source": [
    "existing_token = os.getenv(\"DKUBE_USER_ACCESS_TOKEN\")\n",
    "user = os.getenv('USERNAME')\n",
    "code_name = \"steel\"\n",
    "steel_data = \"steel-data\"\n",
    "prep_ds  = \"steel-prep\"\n",
    "train_ds = \"steel-train\"\n",
    "test_ds  = \"steel-test\"\n",
    "model_name = \"steel-model\""
   ]
  },
  {
   "cell_type": "code",
   "execution_count": null,
   "metadata": {},
   "outputs": [],
   "source": [
    "api = DkubeApi(token=existing_token)"
   ]
  },
  {
   "cell_type": "code",
   "execution_count": null,
   "metadata": {},
   "outputs": [],
   "source": [
    "import os, json\n",
    "import kfp\n",
    "import kfp.compiler as compiler\n",
    "import random\n",
    "import string\n",
    "\n",
    "generate = lambda hint: \"{}-{}\".format(hint, ''.join([random.choice(string.digits) for n in range(4)]))\n",
    "runid = 1"
   ]
  },
  {
   "cell_type": "code",
   "execution_count": null,
   "metadata": {},
   "outputs": [],
   "source": [
    "client = kfp.Client(existing_token=existing_token)"
   ]
  },
  {
   "cell_type": "code",
   "execution_count": null,
   "metadata": {},
   "outputs": [],
   "source": [
    "image = \"docker.io/ocdr/d3-datascience-tf-cpu:v1.14-1\"\n",
    "inp_path = \"/opt/dkube/input\"\n",
    "out_path = \"/opt/dkube/output\"\n",
    "train_ds_path = \"/opt/dkube/output/train\"\n",
    "test_ds_path = \"/opt/dkube/output/test\"\n",
    "model_inp_path = \"/opt/dkube/model\"\n",
    "prep_script = \"python preprocessing.py\"\n",
    "split_script = \"python split.py\"\n",
    "train_script = \"python training.py\"\n",
    "transformer_script = \"tf/segmentation/steel-defect/transformer.py\"\n",
    "serving_image = \"ocdr/tensorflowserver:2.0.0\"\n",
    "framework = \"tensorflow\"\n",
    "f_version = \"1.14\""
   ]
  },
  {
   "cell_type": "code",
   "execution_count": null,
   "metadata": {},
   "outputs": [],
   "source": [
    "components_url = \"/mnt/dkube/pipeline/components/\"\n",
    "dkube_preprocess_op = kfp.components.load_component_from_file(components_url + \"preprocess/component.yaml\")\n",
    "dkube_training_op = kfp.components.load_component_from_file(components_url + \"training/component.yaml\")\n",
    "dkube_serving_op = kfp.components.load_component_from_file(components_url + \"serving/component.yaml\")"
   ]
  },
  {
   "cell_type": "code",
   "execution_count": null,
   "metadata": {},
   "outputs": [],
   "source": [
    "@kfp.dsl.pipeline(\n",
    "    name='dkube-steel-pl',\n",
    "    description='example steel pipeline'\n",
    ")\n",
    "def steel_pipeline(token):\n",
    "    \n",
    "    prep = dkube_preprocess_op(token, json.dumps({\"image\": image}),\n",
    "                               program=code_name, run_script=prep_script,\n",
    "                               datasets=json.dumps([steel_data]), input_dataset_mounts=json.dumps([inp_path]),\n",
    "                               outputs=json.dumps([prep_ds]), output_mounts=json.dumps([out_path])\n",
    "                              ).set_display_name(\"Preprocessing\")\n",
    "    \n",
    "    \n",
    "    split = dkube_preprocess_op(token, json.dumps({\"image\": image}),\n",
    "                               program=code_name, run_script=split_script,\n",
    "                               datasets=json.dumps([prep_ds]), input_dataset_mounts=json.dumps([inp_path]),\n",
    "                               outputs=json.dumps([train_ds, test_ds]), output_mounts=json.dumps([train_ds_path, test_ds_path]),\n",
    "                               ).after(prep).set_display_name(\"Split\")\n",
    "\n",
    "    train = dkube_training_op(token, json.dumps({\"image\": image}),\n",
    "                              framework=framework, version=f_version,\n",
    "                              program=code_name, run_script=train_script,\n",
    "                              datasets=json.dumps([str(train_ds)]), outputs=json.dumps([str(model_name)]),\n",
    "                              input_dataset_mounts=json.dumps([inp_path]),\n",
    "                              output_mounts=json.dumps([out_path])).after(split).set_display_name(\"Training\")\n",
    "    \n",
    "    serving = dkube_serving_op(token, train.outputs['artifact'],\n",
    "                              device=\"cpu\", serving_image=json.dumps({\"image\": serving_image}),\n",
    "                              transformer_image=json.dumps({\"image\": image}),\n",
    "                              transformer_project=code_name,\n",
    "                              transformer_code=transformer_script).after(train).set_display_name(\"Serving\")"
   ]
  },
  {
   "cell_type": "code",
   "execution_count": null,
   "metadata": {},
   "outputs": [],
   "source": [
    "experiment_name = 'Dkube-Steel-pl'\n",
    "train_experiment = client.create_experiment(name=experiment_name)"
   ]
  },
  {
   "cell_type": "code",
   "execution_count": null,
   "metadata": {},
   "outputs": [],
   "source": [
    "import kfp.compiler as compiler\n",
    "compiler.Compiler().compile(steel_pipeline, \"steel-pipeline.zip\")\n",
    "try:\n",
    "    pipeline = client.upload_pipeline(\"steel-pipeline.zip\", pipeline_name = \"Steel-pipeline\")\n",
    "except BaseException as e:\n",
    "    print(e)\n",
    "runid = 1"
   ]
  },
  {
   "cell_type": "code",
   "execution_count": null,
   "metadata": {},
   "outputs": [],
   "source": [
    "arguments = {\"token\":existing_token}\n",
    "run = client.run_pipeline(train_experiment.id, job_name=f\"[{pipeline.name}] Run\" + str(runid), pipeline_id=pipeline.id, params=arguments)\n",
    "runid += 1"
   ]
  },
  {
   "cell_type": "code",
   "execution_count": null,
   "metadata": {},
   "outputs": [],
   "source": []
  }
 ],
 "metadata": {
  "kernelspec": {
   "display_name": "Python 3",
   "language": "python",
   "name": "python3"
  },
  "language_info": {
   "codemirror_mode": {
    "name": "ipython",
    "version": 3
   },
   "file_extension": ".py",
   "mimetype": "text/x-python",
   "name": "python",
   "nbconvert_exporter": "python",
   "pygments_lexer": "ipython3",
   "version": "3.6.8"
  }
 },
 "nbformat": 4,
 "nbformat_minor": 4
}
