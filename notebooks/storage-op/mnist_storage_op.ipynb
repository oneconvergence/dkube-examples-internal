{
 "cells": [
  {
   "cell_type": "code",
   "execution_count": 1,
   "metadata": {},
   "outputs": [],
   "source": [
    "import json\n",
    "\n",
    "import kfp\n",
    "from kfp import dsl\n",
    "import os\n",
    "import kfp.compiler as compiler\n",
    "from kubernetes.client.models import V1EnvVar\n",
    "from kubernetes import client as k8s_client"
   ]
  },
  {
   "cell_type": "markdown",
   "metadata": {},
   "source": [
    "# List existing pipeline experiments"
   ]
  },
  {
   "cell_type": "code",
   "execution_count": 2,
   "metadata": {},
   "outputs": [],
   "source": [
    "existing_token = os.getenv(\"DKUBE_USER_ACCESS_TOKEN\")\n",
    "client = kfp.Client(existing_token=existing_token)"
   ]
  },
  {
   "cell_type": "code",
   "execution_count": 3,
   "metadata": {},
   "outputs": [
    {
     "data": {
      "text/plain": [
       "{'experiments': [{'created_at': datetime.datetime(2021, 9, 5, 13, 34, 40, tzinfo=tzlocal()),\n",
       "                  'description': None,\n",
       "                  'id': '609fee28-4a55-414e-90a4-456591d1de63',\n",
       "                  'name': 'Default',\n",
       "                  'resource_references': [{'key': {'id': 'ocdkube',\n",
       "                                                   'type': 'NAMESPACE'},\n",
       "                                           'name': None,\n",
       "                                           'relationship': 'OWNER'}],\n",
       "                  'storage_state': 'STORAGESTATE_AVAILABLE'},\n",
       "                 {'created_at': datetime.datetime(2021, 9, 6, 14, 21, 13, tzinfo=tzlocal()),\n",
       "                  'description': None,\n",
       "                  'id': 'aab4d596-ffa7-4c54-bcb7-0667105b1ca9',\n",
       "                  'name': 'Dkube - Storage pl',\n",
       "                  'resource_references': [{'key': {'id': 'ocdkube',\n",
       "                                                   'type': 'NAMESPACE'},\n",
       "                                           'name': None,\n",
       "                                           'relationship': 'OWNER'}],\n",
       "                  'storage_state': 'STORAGESTATE_AVAILABLE'}],\n",
       " 'next_page_token': None,\n",
       " 'total_size': 2}"
      ]
     },
     "execution_count": 3,
     "metadata": {},
     "output_type": "execute_result"
    }
   ],
   "source": [
    "client.list_experiments()"
   ]
  },
  {
   "cell_type": "markdown",
   "metadata": {},
   "source": [
    "# Create a Dkube Storage experiment"
   ]
  },
  {
   "cell_type": "code",
   "execution_count": 4,
   "metadata": {},
   "outputs": [
    {
     "data": {
      "text/html": [
       "<a href=\"/pipeline/#/experiments/details/aab4d596-ffa7-4c54-bcb7-0667105b1ca9\" target=\"_blank\" >Experiment details</a>."
      ],
      "text/plain": [
       "<IPython.core.display.HTML object>"
      ]
     },
     "metadata": {},
     "output_type": "display_data"
    }
   ],
   "source": [
    "dkube_store_experiment = client.create_experiment(name='Dkube - Storage pl')"
   ]
  },
  {
   "cell_type": "code",
   "execution_count": 5,
   "metadata": {},
   "outputs": [],
   "source": [
    "class ContainerOp(kfp.dsl.ContainerOp):\n",
    "    def __init__(self, **kwargs):\n",
    "        super().__init__(**kwargs)\n",
    "        self.add_pod_label(name=\"dkube.garbagecollect\", value=\"true\")\n",
    "        self.add_pod_label(name=\"dkube.garbagecollect.policy\", value=\"all\")\n",
    "        self.add_pod_label(name=\"runid\", value=\"{{pod.name}}\")\n",
    "        self.add_pod_label(name=\"wfid\", value=\"{{workflow.uid}}\")\n",
    "\n",
    "def reclaim(uid, namespace, auth_token):\n",
    "    return ContainerOp(\n",
    "       name=\"reclaim_repos\",\n",
    "       image=\"ocdr/dkubepl:2.3.0.6\",\n",
    "       command=[\n",
    "           \"dkubepl\",\n",
    "           \"storage\",\n",
    "           \"--action\",\n",
    "           \"reclaim\",\n",
    "           \"--token\",\n",
    "           auth_token,\n",
    "           \"--namespace\",\n",
    "           namespace,\n",
    "           \"--uid\",\n",
    "           uid\n",
    "       ],\n",
    "    )\n",
    "    \n",
    "    \n",
    "        \n",
    "@kfp.dsl.pipeline(\n",
    "    name=\"MNIST Storage pipeline\",\n",
    "    description=\"A pipline showing how to use storage component\",\n",
    ")\n",
    "def storage_pipeline(\n",
    "    #Dkube authentication token\n",
    "    auth_token = os.getenv(\"DKUBE_USER_ACCESS_TOKEN\"),\n",
    "    #Namespace to export the datasets\n",
    "    namespace = os.getenv(\"USERNAME\"),\n",
    "    #List of artifacts to export, format : <claimname>@<class>://<owner>:<datumname>/<version>\n",
    "    #Class must be one of: [dataset, model, program]\n",
    "    #To get the latest version use \"latest\" in place of <version>, otherwise use v1, v2, etc. (For program, use full commitid)\n",
    "    #(Default version is \"latest\")\n",
    "    dataset = \"mnist/v1\",\n",
    "    program = \"mnist\",\n",
    "    model = \"mnist\"\n",
    "    ):\n",
    "    \n",
    "    reclaim_task = reclaim(\"{{workflow.uid}}\", namespace, auth_token) \n",
    "    with dsl.ExitHandler(reclaim_task):\n",
    "        program_volume_claim = \"{{workflow.uid}}-mn-project\"\n",
    "        dataset_volume_claim = \"{{workflow.uid}}-mn-dataset\"\n",
    "        model_volume_claim = \"{{workflow.uid}}-mn-model\"\n",
    "        program_volume = program_volume_claim + \"@program://\" + str(program)\n",
    "        dataset_volume = dataset_volume_claim + \"@dataset://\" + str(dataset)\n",
    "        model_volume = model_volume_claim + \"@model://\" + str(model)\n",
    "        input_volumes = json.dumps([program_volume, dataset_volume])\n",
    "        output_volumes = json.dumps([model_volume])\n",
    "        \n",
    "        pipelineConfig = kfp.dsl.PipelineConf()\n",
    "        pipelineConfig.set_image_pull_policy(\"Always\")\n",
    "        \n",
    "        export = ContainerOp(\n",
    "            name=\"export_repos\",\n",
    "            image=\"ocdr/dkubepl:2.3.0.6\",\n",
    "            command=[\n",
    "                \"dkubepl\",\n",
    "                \"storage\",\n",
    "                \"--action\",\n",
    "                \"export\",\n",
    "                \"--token\",\n",
    "                auth_token,\n",
    "                \"--namespace\",\n",
    "                namespace,\n",
    "                \"--input_volumes\",\n",
    "                input_volumes,\n",
    "                \"--output_volumes\",\n",
    "                output_volumes,\n",
    "                \"--runid\",\n",
    "                '{{pod.name}}',\n",
    "                \"--wfid\",\n",
    "                \"{{workflow.uid}}\",\n",
    "            ],\n",
    "        )\n",
    "    \n",
    "        train = ContainerOp(name='train', image='ocdr/d3-datascience-tf-cpu:v1.14', command=\"bash\", arguments=[\"-c\", \"cd /opt/dkube/project/; python mnist/train.py\"]).add_volume(k8s_client.V1Volume(name='mnist-project', persistent_volume_claim=k8s_client.V1PersistentVolumeClaimVolumeSource(claim_name=program_volume_claim))).add_volume_mount(k8s_client.V1VolumeMount(mount_path='/opt/dkube/project', name='mnist-project')).add_volume(k8s_client.V1Volume(name='mnist-dataset', persistent_volume_claim=k8s_client.V1PersistentVolumeClaimVolumeSource(claim_name=dataset_volume_claim))).add_volume_mount(k8s_client.V1VolumeMount(mount_path='/mnist', name='mnist-dataset')).add_volume(k8s_client.V1Volume(name='mnist-model', persistent_volume_claim=k8s_client.V1PersistentVolumeClaimVolumeSource(claim_name=model_volume_claim))).\tadd_volume_mount(k8s_client.V1VolumeMount(mount_path='/model', name='mnist-model'))\n",
    "       # train = ContainerOp(name='train', image='ocdr/d3-datascience-tf-cpu:v1.14', command=\"bash\", arguments=[\"-c\", \"sleep infinity\"]).add_volume(k8s_client.V1Volume(name='mnist-project', persistent_volume_claim=k8s_client.V1PersistentVolumeClaimVolumeSource(claim_name=program_volume_claim))).add_volume_mount(k8s_client.V1VolumeMount(mount_path='/opt/dkube/project', name='mnist-project')).add_volume(k8s_client.V1Volume(name='mnist-dataset', persistent_volume_claim=k8s_client.V1PersistentVolumeClaimVolumeSource(claim_name=dataset_volume_claim))).add_volume_mount(k8s_client.V1VolumeMount(mount_path='/opt/dkube/input', name='mnist-dataset')).add_volume(k8s_client.V1Volume(name='mnist-model', persistent_volume_claim=k8s_client.V1PersistentVolumeClaimVolumeSource(claim_name=model_volume_claim))).\tadd_volume_mount(k8s_client.V1VolumeMount(mount_path='/opt/dkube/output', name='mnist-model'))\n",
    "        #train.add_pod_label(name: str, value: str)\n",
    "\n",
    "        train.after(export)\n",
    "   \n"
   ]
  },
  {
   "cell_type": "code",
   "execution_count": 6,
   "metadata": {},
   "outputs": [
    {
     "name": "stderr",
     "output_type": "stream",
     "text": [
      "/usr/local/lib/python3.6/dist-packages/kfp/dsl/_container_op.py:1157: FutureWarning: Please create reusable components instead of constructing ContainerOp instances directly. Reusable components are shareable, portable and have compatibility and support guarantees. Please see the documentation: https://www.kubeflow.org/docs/pipelines/sdk/component-development/#writing-your-component-definition-file The components can be created manually (or, in case of python, using kfp.components.create_component_from_func or func_to_container_op) and then loaded using kfp.components.load_component_from_file, load_component_from_uri or load_component_from_text: https://kubeflow-pipelines.readthedocs.io/en/stable/source/kfp.components.html#kfp.components.load_component_from_file\n",
      "  category=FutureWarning,\n"
     ]
    }
   ],
   "source": [
    "compiler.Compiler().compile(storage_pipeline, 'dkube_storage_pl.tar.gz')"
   ]
  },
  {
   "cell_type": "code",
   "execution_count": 7,
   "metadata": {},
   "outputs": [
    {
     "data": {
      "text/html": [
       "<a href=\"/pipeline/#/runs/details/6300b3dd-d7f0-42bb-ba8c-db02b7e6a682\" target=\"_blank\" >Run details</a>."
      ],
      "text/plain": [
       "<IPython.core.display.HTML object>"
      ]
     },
     "metadata": {},
     "output_type": "display_data"
    }
   ],
   "source": [
    "run = client.run_pipeline(dkube_store_experiment.id, 'dkube_storage_pipeline_1', 'dkube_storage_pl.tar.gz', params={})"
   ]
  },
  {
   "cell_type": "code",
   "execution_count": null,
   "metadata": {},
   "outputs": [],
   "source": []
  },
  {
   "cell_type": "code",
   "execution_count": null,
   "metadata": {},
   "outputs": [],
   "source": []
  }
 ],
 "metadata": {
  "kernelspec": {
   "display_name": "Python 3",
   "language": "python",
   "name": "python3"
  },
  "language_info": {
   "codemirror_mode": {
    "name": "ipython",
    "version": 3
   },
   "file_extension": ".py",
   "mimetype": "text/x-python",
   "name": "python",
   "nbconvert_exporter": "python",
   "pygments_lexer": "ipython3",
   "version": "3.6.8"
  }
 },
 "nbformat": 4,
 "nbformat_minor": 4
}
